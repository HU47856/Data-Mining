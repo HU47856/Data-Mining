{
  "cells": [
    {
      "cell_type": "markdown",
      "metadata": {
        "id": "Qema5aN5Xitp"
      },
      "source": [
        "### pandas-profiling install"
      ]
    },
    {
      "cell_type": "code",
      "execution_count": null,
      "metadata": {
        "id": "ITedbAf5pra_"
      },
      "outputs": [],
      "source": [
        "pip install https://github.com/pandas-profiling/pandas-profiling/archive/master.zip"
      ]
    },
    {
      "cell_type": "markdown",
      "metadata": {
        "id": "5uTVs1HAXwvX"
      },
      "source": [
        "### mlxtend install which is used for OneR model"
      ]
    },
    {
      "cell_type": "code",
      "execution_count": null,
      "metadata": {
        "id": "QvvPCmcyP34D"
      },
      "outputs": [],
      "source": [
        "pip install mlxtend==0.21.0"
      ]
    },
    {
      "cell_type": "markdown",
      "metadata": {
        "id": "7UkUlbE8gNnY"
      },
      "source": [
        "### Standard Imports"
      ]
    },
    {
      "cell_type": "code",
      "execution_count": null,
      "metadata": {
        "id": "GD_pvn_IiCVL"
      },
      "outputs": [],
      "source": [
        "import pandas as pd\n",
        "import numpy as np\n",
        "import pandas_profiling as pp\n",
        "import matplotlib.pyplot as plt\n",
        "%matplotlib inline\n",
        "import seaborn as sns\n",
        "\n",
        "from sklearn.linear_model import LogisticRegression   #Logit model\n",
        "from sklearn.naive_bayes import GaussianNB            #NaiveBayes model\n",
        "from sklearn.tree import DecisionTreeClassifier       #DecisionTree model\n",
        "from sklearn.svm import SVC                           #SVM model\n",
        "from sklearn.ensemble import RandomForestClassifier   #RandomForest model\n",
        "from sklearn.dummy import DummyClassifier             #ZeroR model\n",
        "from mlxtend.classifier import OneRClassifier         #OneR model\n",
        "\n",
        "from sklearn.metrics import confusion_matrix, roc_curve, RocCurveDisplay, roc_auc_score, auc\n",
        "from sklearn.model_selection import cross_val_score, cross_val_predict, KFold, StratifiedKFold"
      ]
    },
    {
      "cell_type": "markdown",
      "metadata": {
        "id": "ZFgRRYDJgRLX"
      },
      "source": [
        "### Q1. Create a HTML profile report of the `red_wine` data."
      ]
    },
    {
      "cell_type": "code",
      "execution_count": null,
      "metadata": {
        "id": "9RBIhhWRiNvt"
      },
      "outputs": [],
      "source": [
        "red_wine_df = pd.read_csv('red_wine.csv')\n",
        "profile = pp.ProfileReport(red_wine_df)\n",
        "profile.to_file(\"report.html\")"
      ]
    },
    {
      "cell_type": "markdown",
      "metadata": {
        "id": "uy1Du4pnkpjD"
      },
      "source": [
        "### Q2. Table of accuracy and auc-roc scores of different algorithms"
      ]
    },
    {
      "cell_type": "code",
      "execution_count": null,
      "metadata": {
        "id": "niwBzXYT0GnJ"
      },
      "outputs": [],
      "source": [
        "X = red_wine_df.drop('type', axis=1)\n",
        "y = red_wine_df['type'].map({'high':1, 'low':0})"
      ]
    },
    {
      "cell_type": "code",
      "execution_count": null,
      "metadata": {
        "id": "d-CEp4NgNjit"
      },
      "outputs": [],
      "source": [
        "def df_to_binned(df, bins):\n",
        "  df1 = df.copy()\n",
        "  for col in df1.columns:\n",
        "    col_name = col+'_binned'\n",
        "    df1[col_name] = pd.cut(df1[col], bins=bins)\n",
        "    df1.drop(col, axis=1, inplace=True)\n",
        "  return df1"
      ]
    },
    {
      "cell_type": "code",
      "execution_count": null,
      "metadata": {
        "id": "4Dbk950AjqXO"
      },
      "outputs": [],
      "source": [
        "def results_to_frame(models, X, y, n_bins, n_folds):\n",
        "  results_df = pd.DataFrame(columns=['model', 'AUC', 'Accuracy'])\n",
        "  cv = KFold(n_folds)\n",
        "  for model in models:\n",
        "    if model=='ZeroR':\n",
        "      zeror = DummyClassifier()\n",
        "      acc = cross_val_score(zeror, X, y, cv=cv, scoring='accuracy')\n",
        "      results_df = results_df.append({'model':'ZeroR', 'Accuracy':round(np.mean(acc),3)}, ignore_index=True)\n",
        "    elif model=='OneR':\n",
        "      X_arr = df_to_binned(X, bins=n_bins).to_numpy()\n",
        "      oner = OneRClassifier()\n",
        "      acc = cross_val_score(oner, X_arr, y, cv=cv, scoring='accuracy')\n",
        "      results_df = results_df.append({'model':'OneR', 'Accuracy':round(np.mean(acc),3)}, ignore_index=True)\n",
        "    elif model=='LR':\n",
        "      lr = LogisticRegression()\n",
        "      auc = cross_val_score(lr, X, y, cv=cv, scoring='roc_auc')\n",
        "      acc = cross_val_score(lr, X, y, cv=cv, scoring='accuracy')\n",
        "      results_df = results_df.append({'model':'LR', 'AUC':round(np.mean(auc),3), 'Accuracy':round(np.mean(acc),3)}, ignore_index=True)\n",
        "    elif model=='NB':\n",
        "      nb = GaussianNB()\n",
        "      auc = cross_val_score(nb, X, y, cv=cv, scoring='roc_auc')\n",
        "      acc = cross_val_score(nb, X, y, cv=cv, scoring='accuracy')\n",
        "      results_df = results_df.append({'model':'NB', 'AUC':round(np.mean(auc),3), 'Accuracy':round(np.mean(acc),3)}, ignore_index=True)\n",
        "    elif model=='DT':\n",
        "      dt = DecisionTreeClassifier(random_state=0)\n",
        "      auc = cross_val_score(dt, X, y, cv=cv, scoring='roc_auc')\n",
        "      acc = cross_val_score(dt, X, y, cv=cv, scoring='accuracy')\n",
        "      results_df = results_df.append({'model':'DT', 'AUC':round(np.mean(auc),3), 'Accuracy':round(np.mean(acc),3)}, ignore_index=True)\n",
        "    elif model=='SVM':\n",
        "      svm = SVC(kernel='poly', random_state=0)\n",
        "      auc = cross_val_score(svm, X, y, cv=cv, scoring='roc_auc')\n",
        "      acc = cross_val_score(svm, X, y, cv=cv, scoring='accuracy')\n",
        "      results_df = results_df.append({'model':'SVM', 'AUC':round(np.mean(auc),3), 'Accuracy':round(np.mean(acc),3)}, ignore_index=True)\n",
        "    elif model=='RF':\n",
        "      rf = RandomForestClassifier(random_state=0)\n",
        "      auc = cross_val_score(rf, X, y, cv=cv, scoring='roc_auc')\n",
        "      acc = cross_val_score(rf, X, y, cv=cv, scoring='accuracy')\n",
        "      results_df = results_df.append({'model':'RF', 'AUC':round(np.mean(auc),3), 'Accuracy':round(np.mean(acc),3)}, ignore_index=True)\n",
        "  results_df.set_index('model', inplace=True)\n",
        "  return results_df.T"
      ]
    },
    {
      "cell_type": "code",
      "execution_count": null,
      "metadata": {
        "colab": {
          "base_uri": "https://localhost:8080/",
          "height": 112
        },
        "id": "tNrVIF-sTTxP",
        "outputId": "966bc7dc-09e2-4add-aa18-888da5b1a3d4"
      },
      "outputs": [
        {
          "data": {
            "text/html": [
              "\n",
              "  <div id=\"df-2e67c747-9b20-4d3c-83ff-ffb45166b40e\">\n",
              "    <div class=\"colab-df-container\">\n",
              "      <div>\n",
              "<style scoped>\n",
              "    .dataframe tbody tr th:only-of-type {\n",
              "        vertical-align: middle;\n",
              "    }\n",
              "\n",
              "    .dataframe tbody tr th {\n",
              "        vertical-align: top;\n",
              "    }\n",
              "\n",
              "    .dataframe thead th {\n",
              "        text-align: right;\n",
              "    }\n",
              "</style>\n",
              "<table border=\"1\" class=\"dataframe\">\n",
              "  <thead>\n",
              "    <tr style=\"text-align: right;\">\n",
              "      <th>model</th>\n",
              "      <th>ZeroR</th>\n",
              "      <th>OneR</th>\n",
              "      <th>LR</th>\n",
              "      <th>NB</th>\n",
              "      <th>DT</th>\n",
              "      <th>SVM</th>\n",
              "      <th>RF</th>\n",
              "    </tr>\n",
              "  </thead>\n",
              "  <tbody>\n",
              "    <tr>\n",
              "      <th>AUC</th>\n",
              "      <td>NaN</td>\n",
              "      <td>NaN</td>\n",
              "      <td>0.874</td>\n",
              "      <td>0.895</td>\n",
              "      <td>0.803</td>\n",
              "      <td>0.856</td>\n",
              "      <td>0.924</td>\n",
              "    </tr>\n",
              "    <tr>\n",
              "      <th>Accuracy</th>\n",
              "      <td>0.529</td>\n",
              "      <td>0.778</td>\n",
              "      <td>0.779</td>\n",
              "      <td>0.822</td>\n",
              "      <td>0.809</td>\n",
              "      <td>0.762</td>\n",
              "      <td>0.844</td>\n",
              "    </tr>\n",
              "  </tbody>\n",
              "</table>\n",
              "</div>\n",
              "      <button class=\"colab-df-convert\" onclick=\"convertToInteractive('df-2e67c747-9b20-4d3c-83ff-ffb45166b40e')\"\n",
              "              title=\"Convert this dataframe to an interactive table.\"\n",
              "              style=\"display:none;\">\n",
              "        \n",
              "  <svg xmlns=\"http://www.w3.org/2000/svg\" height=\"24px\"viewBox=\"0 0 24 24\"\n",
              "       width=\"24px\">\n",
              "    <path d=\"M0 0h24v24H0V0z\" fill=\"none\"/>\n",
              "    <path d=\"M18.56 5.44l.94 2.06.94-2.06 2.06-.94-2.06-.94-.94-2.06-.94 2.06-2.06.94zm-11 1L8.5 8.5l.94-2.06 2.06-.94-2.06-.94L8.5 2.5l-.94 2.06-2.06.94zm10 10l.94 2.06.94-2.06 2.06-.94-2.06-.94-.94-2.06-.94 2.06-2.06.94z\"/><path d=\"M17.41 7.96l-1.37-1.37c-.4-.4-.92-.59-1.43-.59-.52 0-1.04.2-1.43.59L10.3 9.45l-7.72 7.72c-.78.78-.78 2.05 0 2.83L4 21.41c.39.39.9.59 1.41.59.51 0 1.02-.2 1.41-.59l7.78-7.78 2.81-2.81c.8-.78.8-2.07 0-2.86zM5.41 20L4 18.59l7.72-7.72 1.47 1.35L5.41 20z\"/>\n",
              "  </svg>\n",
              "      </button>\n",
              "      \n",
              "  <style>\n",
              "    .colab-df-container {\n",
              "      display:flex;\n",
              "      flex-wrap:wrap;\n",
              "      gap: 12px;\n",
              "    }\n",
              "\n",
              "    .colab-df-convert {\n",
              "      background-color: #E8F0FE;\n",
              "      border: none;\n",
              "      border-radius: 50%;\n",
              "      cursor: pointer;\n",
              "      display: none;\n",
              "      fill: #1967D2;\n",
              "      height: 32px;\n",
              "      padding: 0 0 0 0;\n",
              "      width: 32px;\n",
              "    }\n",
              "\n",
              "    .colab-df-convert:hover {\n",
              "      background-color: #E2EBFA;\n",
              "      box-shadow: 0px 1px 2px rgba(60, 64, 67, 0.3), 0px 1px 3px 1px rgba(60, 64, 67, 0.15);\n",
              "      fill: #174EA6;\n",
              "    }\n",
              "\n",
              "    [theme=dark] .colab-df-convert {\n",
              "      background-color: #3B4455;\n",
              "      fill: #D2E3FC;\n",
              "    }\n",
              "\n",
              "    [theme=dark] .colab-df-convert:hover {\n",
              "      background-color: #434B5C;\n",
              "      box-shadow: 0px 1px 3px 1px rgba(0, 0, 0, 0.15);\n",
              "      filter: drop-shadow(0px 1px 2px rgba(0, 0, 0, 0.3));\n",
              "      fill: #FFFFFF;\n",
              "    }\n",
              "  </style>\n",
              "\n",
              "      <script>\n",
              "        const buttonEl =\n",
              "          document.querySelector('#df-2e67c747-9b20-4d3c-83ff-ffb45166b40e button.colab-df-convert');\n",
              "        buttonEl.style.display =\n",
              "          google.colab.kernel.accessAllowed ? 'block' : 'none';\n",
              "\n",
              "        async function convertToInteractive(key) {\n",
              "          const element = document.querySelector('#df-2e67c747-9b20-4d3c-83ff-ffb45166b40e');\n",
              "          const dataTable =\n",
              "            await google.colab.kernel.invokeFunction('convertToInteractive',\n",
              "                                                     [key], {});\n",
              "          if (!dataTable) return;\n",
              "\n",
              "          const docLinkHtml = 'Like what you see? Visit the ' +\n",
              "            '<a target=\"_blank\" href=https://colab.research.google.com/notebooks/data_table.ipynb>data table notebook</a>'\n",
              "            + ' to learn more about interactive tables.';\n",
              "          element.innerHTML = '';\n",
              "          dataTable['output_type'] = 'display_data';\n",
              "          await google.colab.output.renderOutput(dataTable, element);\n",
              "          const docLink = document.createElement('div');\n",
              "          docLink.innerHTML = docLinkHtml;\n",
              "          element.appendChild(docLink);\n",
              "        }\n",
              "      </script>\n",
              "    </div>\n",
              "  </div>\n",
              "  "
            ],
            "text/plain": [
              "model     ZeroR   OneR     LR     NB     DT    SVM     RF\n",
              "AUC         NaN    NaN  0.874  0.895  0.803  0.856  0.924\n",
              "Accuracy  0.529  0.778  0.779  0.822  0.809  0.762  0.844"
            ]
          },
          "execution_count": 7,
          "metadata": {},
          "output_type": "execute_result"
        }
      ],
      "source": [
        "df = results_to_frame(models=['ZeroR','OneR','LR','NB','DT','SVM','RF'], X=X, y=y, n_bins=5, n_folds=10)\n",
        "df"
      ]
    },
    {
      "cell_type": "markdown",
      "metadata": {
        "id": "dx2rDgeVzcx8"
      },
      "source": [
        "### Q3. ROC curve for RandomForest Classifier"
      ]
    },
    {
      "cell_type": "code",
      "execution_count": null,
      "metadata": {
        "colab": {
          "base_uri": "https://localhost:8080/",
          "height": 404
        },
        "id": "az_cSZ8C2UDQ",
        "outputId": "dec6f3d9-4439-4845-c5ff-6dcbe558ec10"
      },
      "outputs": [
        {
          "data": {
            "image/png": "[encoded data removed]",
            "text/plain": [
              "<Figure size 720x432 with 1 Axes>"
            ]
          },
          "metadata": {
            "needs_background": "light"
          },
          "output_type": "display_data"
        }
      ],
      "source": [
        "fig, ax = plt.subplots(figsize=(10,6))\n",
        "cv = KFold(10)\n",
        "rf = RandomForestClassifier(random_state=0)\n",
        "\n",
        "tprs = []\n",
        "fprs = []\n",
        "fpr_space = np.linspace(0,1,100)\n",
        "fold=1\n",
        "for train_index, test_index in cv.split(X, y):\n",
        "  X_train, X_test = X.iloc[train_index], X.iloc[test_index]\n",
        "  y_train, y_test = y.iloc[train_index], y.iloc[test_index]\n",
        "  y_prob = rf.fit(X_train, y_train).predict_proba(X_test)\n",
        "  fpr, tpr, thr = roc_curve(y_test, y_prob[:,1])\n",
        "  tprs.append(np.interp(fpr_space, fpr, tpr))\n",
        "  auc_score = auc(fpr, tpr)\n",
        "  ax.plot(fpr, tpr, linewidth=1, alpha=0.3,label=f'ROC for fold-{fold} (AUC = {np.round(auc_score,3)})')\n",
        "  fold += 1\n",
        "\n",
        "mean_tpr = np.mean(tprs, axis=0)\n",
        "mean_auc = auc(fpr_space, mean_tpr)\n",
        "ax.plot(fpr_space, mean_tpr, color='b', marker='x', markersize=3, label=f'Mean ROC (AUC = {np.round(mean_auc,3)})')\n",
        "\n",
        "ax.set_xlabel('False Positive Rate(FPR)')\n",
        "ax.set_ylabel('True Positive Rate(TPR)')\n",
        "ax.set_title('ROC Curve')\n",
        "ax.legend();"
      ]
    },
    {
      "cell_type": "code",
      "execution_count": null,
      "metadata": {
        "id": "vdRlgp_MyoWq"
      },
      "outputs": [],
      "source": []
    },
    {
      "cell_type": "markdown",
      "metadata": {
        "id": "5irZzYtFyyOM"
      },
      "source": [
        "### Q4. AUC score of best performing model on `white_wine.csv`\n",
        "- The best performing model is RandomForest"
      ]
    },
    {
      "cell_type": "code",
      "execution_count": null,
      "metadata": {
        "colab": {
          "base_uri": "https://localhost:8080/"
        },
        "id": "CrNtt1bayzSc",
        "outputId": "642e7af2-7137-4798-bb7f-f44afba0b324"
      },
      "outputs": [
        {
          "name": "stdout",
          "output_type": "stream",
          "text": [
            "The AUC-ROC Score for white_wine.csv is 0.978\n"
          ]
        }
      ],
      "source": [
        "test_df = pd.read_csv('white_wine.csv')\n",
        "X_test = test_df.drop('type', axis=1)\n",
        "y_test = test_df['type'].map({'low':0, 'high':1})\n",
        "rf = RandomForestClassifier(random_state=0)\n",
        "y_prob = rf.fit(X,y).predict_proba(X_test)\n",
        "print(f'The AUC-ROC Score for white_wine.csv is {np.round(roc_auc_score(y_test, y_prob[:,1]),3)}')"
      ]
    }
  ],
  "metadata": {
    "colab": {
      "collapsed_sections": [
        "Qema5aN5Xitp",
        "5uTVs1HAXwvX"
      ],
      "provenance": []
    },
    "kernelspec": {
      "display_name": "Python 3",
      "name": "python3"
    },
    "language_info": {
      "name": "python"
    }
  },
  "nbformat": 4,
  "nbformat_minor": 0
}
