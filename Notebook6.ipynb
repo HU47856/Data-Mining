{
  "nbformat": 4,
  "nbformat_minor": 0,
  "metadata": {
    "colab": {
      "provenance": [],
      "collapsed_sections": []
    },
    "kernelspec": {
      "name": "python3",
      "display_name": "Python 3"
    },
    "language_info": {
      "name": "python"
    }
  },
  "cells": [
    {
      "cell_type": "code",
      "execution_count": null,
      "metadata": {
        "id": "5hitq_HBQQnw"
      },
      "outputs": [],
      "source": [
        "import pandas as pd\n",
        "import numpy as np\n",
        "import matplotlib.pyplot as plt\n",
        "%matplotlib inline"
      ]
    },
    {
      "cell_type": "code",
      "source": [
        "df = pd.read_csv('faithful.csv')"
      ],
      "metadata": {
        "id": "od1PjzozQ2r_"
      },
      "execution_count": null,
      "outputs": []
    },
    {
      "cell_type": "code",
      "source": [
        "df.head()"
      ],
      "metadata": {
        "colab": {
          "base_uri": "https://localhost:8080/",
          "height": 206
        },
        "id": "srevsVe-Q9G4",
        "outputId": "6f216208-f09e-4250-f8a2-1720ecf2f217"
      },
      "execution_count": null,
      "outputs": [
        {
          "output_type": "execute_result",
          "data": {
            "text/plain": [
              "   eruptions  waiting\n",
              "0      3.600       79\n",
              "1      1.800       54\n",
              "2      3.333       74\n",
              "3      2.283       62\n",
              "4      4.533       85"
            ],
            "text/html": [
              "\n",
              "  <div id=\"df-6ed44d4a-dab9-49ff-9458-d7362fa06ac9\">\n",
              "    <div class=\"colab-df-container\">\n",
              "      <div>\n",
              "<style scoped>\n",
              "    .dataframe tbody tr th:only-of-type {\n",
              "        vertical-align: middle;\n",
              "    }\n",
              "\n",
              "    .dataframe tbody tr th {\n",
              "        vertical-align: top;\n",
              "    }\n",
              "\n",
              "    .dataframe thead th {\n",
              "        text-align: right;\n",
              "    }\n",
              "</style>\n",
              "<table border=\"1\" class=\"dataframe\">\n",
              "  <thead>\n",
              "    <tr style=\"text-align: right;\">\n",
              "      <th></th>\n",
              "      <th>eruptions</th>\n",
              "      <th>waiting</th>\n",
              "    </tr>\n",
              "  </thead>\n",
              "  <tbody>\n",
              "    <tr>\n",
              "      <th>0</th>\n",
              "      <td>3.600</td>\n",
              "      <td>79</td>\n",
              "    </tr>\n",
              "    <tr>\n",
              "      <th>1</th>\n",
              "      <td>1.800</td>\n",
              "      <td>54</td>\n",
              "    </tr>\n",
              "    <tr>\n",
              "      <th>2</th>\n",
              "      <td>3.333</td>\n",
              "      <td>74</td>\n",
              "    </tr>\n",
              "    <tr>\n",
              "      <th>3</th>\n",
              "      <td>2.283</td>\n",
              "      <td>62</td>\n",
              "    </tr>\n",
              "    <tr>\n",
              "      <th>4</th>\n",
              "      <td>4.533</td>\n",
              "      <td>85</td>\n",
              "    </tr>\n",
              "  </tbody>\n",
              "</table>\n",
              "</div>\n",
              "      <button class=\"colab-df-convert\" onclick=\"convertToInteractive('df-6ed44d4a-dab9-49ff-9458-d7362fa06ac9')\"\n",
              "              title=\"Convert this dataframe to an interactive table.\"\n",
              "              style=\"display:none;\">\n",
              "        \n",
              "  <svg xmlns=\"http://www.w3.org/2000/svg\" height=\"24px\"viewBox=\"0 0 24 24\"\n",
              "       width=\"24px\">\n",
              "    <path d=\"M0 0h24v24H0V0z\" fill=\"none\"/>\n",
              "    <path d=\"M18.56 5.44l.94 2.06.94-2.06 2.06-.94-2.06-.94-.94-2.06-.94 2.06-2.06.94zm-11 1L8.5 8.5l.94-2.06 2.06-.94-2.06-.94L8.5 2.5l-.94 2.06-2.06.94zm10 10l.94 2.06.94-2.06 2.06-.94-2.06-.94-.94-2.06-.94 2.06-2.06.94z\"/><path d=\"M17.41 7.96l-1.37-1.37c-.4-.4-.92-.59-1.43-.59-.52 0-1.04.2-1.43.59L10.3 9.45l-7.72 7.72c-.78.78-.78 2.05 0 2.83L4 21.41c.39.39.9.59 1.41.59.51 0 1.02-.2 1.41-.59l7.78-7.78 2.81-2.81c.8-.78.8-2.07 0-2.86zM5.41 20L4 18.59l7.72-7.72 1.47 1.35L5.41 20z\"/>\n",
              "  </svg>\n",
              "      </button>\n",
              "      \n",
              "  <style>\n",
              "    .colab-df-container {\n",
              "      display:flex;\n",
              "      flex-wrap:wrap;\n",
              "      gap: 12px;\n",
              "    }\n",
              "\n",
              "    .colab-df-convert {\n",
              "      background-color: #E8F0FE;\n",
              "      border: none;\n",
              "      border-radius: 50%;\n",
              "      cursor: pointer;\n",
              "      display: none;\n",
              "      fill: #1967D2;\n",
              "      height: 32px;\n",
              "      padding: 0 0 0 0;\n",
              "      width: 32px;\n",
              "    }\n",
              "\n",
              "    .colab-df-convert:hover {\n",
              "      background-color: #E2EBFA;\n",
              "      box-shadow: 0px 1px 2px rgba(60, 64, 67, 0.3), 0px 1px 3px 1px rgba(60, 64, 67, 0.15);\n",
              "      fill: #174EA6;\n",
              "    }\n",
              "\n",
              "    [theme=dark] .colab-df-convert {\n",
              "      background-color: #3B4455;\n",
              "      fill: #D2E3FC;\n",
              "    }\n",
              "\n",
              "    [theme=dark] .colab-df-convert:hover {\n",
              "      background-color: #434B5C;\n",
              "      box-shadow: 0px 1px 3px 1px rgba(0, 0, 0, 0.15);\n",
              "      filter: drop-shadow(0px 1px 2px rgba(0, 0, 0, 0.3));\n",
              "      fill: #FFFFFF;\n",
              "    }\n",
              "  </style>\n",
              "\n",
              "      <script>\n",
              "        const buttonEl =\n",
              "          document.querySelector('#df-6ed44d4a-dab9-49ff-9458-d7362fa06ac9 button.colab-df-convert');\n",
              "        buttonEl.style.display =\n",
              "          google.colab.kernel.accessAllowed ? 'block' : 'none';\n",
              "\n",
              "        async function convertToInteractive(key) {\n",
              "          const element = document.querySelector('#df-6ed44d4a-dab9-49ff-9458-d7362fa06ac9');\n",
              "          const dataTable =\n",
              "            await google.colab.kernel.invokeFunction('convertToInteractive',\n",
              "                                                     [key], {});\n",
              "          if (!dataTable) return;\n",
              "\n",
              "          const docLinkHtml = 'Like what you see? Visit the ' +\n",
              "            '<a target=\"_blank\" href=https://colab.research.google.com/notebooks/data_table.ipynb>data table notebook</a>'\n",
              "            + ' to learn more about interactive tables.';\n",
              "          element.innerHTML = '';\n",
              "          dataTable['output_type'] = 'display_data';\n",
              "          await google.colab.output.renderOutput(dataTable, element);\n",
              "          const docLink = document.createElement('div');\n",
              "          docLink.innerHTML = docLinkHtml;\n",
              "          element.appendChild(docLink);\n",
              "        }\n",
              "      </script>\n",
              "    </div>\n",
              "  </div>\n",
              "  "
            ]
          },
          "metadata": {},
          "execution_count": 28
        }
      ]
    },
    {
      "cell_type": "markdown",
      "source": [
        "## Problem-1:"
      ],
      "metadata": {
        "id": "C8ZbmeVbQrPt"
      }
    },
    {
      "cell_type": "markdown",
      "source": [
        "### a) Create and print out a scatter plot of this dataset, eruption time versus waiting time."
      ],
      "metadata": {
        "id": "ocLzPtFlQt5Z"
      }
    },
    {
      "cell_type": "code",
      "source": [
        "plt.scatter(df['eruptions'], df['waiting'])\n",
        "plt.xlabel('Length of Eruption (M)')\n",
        "plt.ylabel('Wait time (M)');"
      ],
      "metadata": {
        "colab": {
          "base_uri": "https://localhost:8080/",
          "height": 279
        },
        "id": "FC5f6GbdQk9S",
        "outputId": "5725c2fa-2ddb-4992-a59e-1706a061226d"
      },
      "execution_count": null,
      "outputs": [
        {
          "output_type": "display_data",
          "data": {
            "text/plain": [
              "<Figure size 432x288 with 1 Axes>"
            ],
            "image/png": "[encoded data removed]"
          },
          "metadata": {
            "needs_background": "light"
          }
        }
      ]
    },
    {
      "cell_type": "markdown",
      "source": [
        "### b) How many clusters do you see based on your scatter plot?"
      ],
      "metadata": {
        "id": "fZgFys2XSBgW"
      }
    },
    {
      "cell_type": "markdown",
      "source": [
        "#### Two clusters of data points"
      ],
      "metadata": {
        "id": "Vtza256uSZxf"
      }
    },
    {
      "cell_type": "markdown",
      "source": [
        "### c) Describe the steps of a hierarchical clustering algorithm. Based on your scatter plot, would this method be appropriate for this dataset?"
      ],
      "metadata": {
        "id": "WGlagabgShgB"
      }
    },
    {
      "cell_type": "markdown",
      "source": [
        "Most used hierarchical clustering algorithm is agglomerative clustering. The steps of the algorithm are:\n",
        "1. Assign each data point to a single cluster.\n",
        "2. Compute proximity matrix using a distance metric such as euclidean distance.\n",
        "3. Merge the clusters based on similarity between them. Different similarity measures used are ward, min, max, average.\n",
        "4. Update the proximity matrix after the merge\n",
        "5. Repeat steps 3 and 4 until all the data points are in a single cluster.\n",
        "The number of clusters to select can be known from a dendogram with appropriate set threshold.\n",
        "\n",
        "Yes, we can use hierarchical clustering to identify the clusters in the data."
      ],
      "metadata": {
        "id": "VHlNbpz9Ss_E"
      }
    },
    {
      "cell_type": "markdown",
      "source": [
        "## Problem-2:"
      ],
      "metadata": {
        "id": "WSgUlpRUoT78"
      }
    },
    {
      "cell_type": "markdown",
      "source": [
        "### a) Scratch implementation of k-means"
      ],
      "metadata": {
        "id": "VVbWNmNeoWkt"
      }
    },
    {
      "cell_type": "code",
      "source": [
        "def objective_function(X, centroids, cluster, k):\n",
        "  '''\n",
        "  Calculates the objective function of K-Means clustering algorithm. The objective function is\n",
        "  sum of square of euclidean distance between the cluster centroid and their respective data points.\n",
        "  '''\n",
        "  var = 0\n",
        "  for i in range(k):\n",
        "    var += np.sum((X[cluster == i] - centroids[i])**2)\n",
        "  return var\n",
        "\n",
        "def get_clusters(X, centroids):\n",
        "  '''\n",
        "  Computes the clusters for the data points of the array based on minimum distance of the data point from the centroids.\n",
        "  '''\n",
        "  centroids = centroids\n",
        "  cluster = []\n",
        "  for ele in X:\n",
        "    cluster.append(np.argmin(np.sqrt(np.sum((ele - centroids)**2, axis=1))))\n",
        "  return np.array(cluster)\n",
        "\n",
        "def compute_centroids(X, k, cluster):\n",
        "  '''\n",
        "  Computes the centroids of the cluster by mean of the data points of that cluster.\n",
        "  '''\n",
        "  centroids = []\n",
        "  for i in range(k):\n",
        "    centroids.append(np.mean(X[cluster == i], axis=0))\n",
        "  return np.array(centroids)\n",
        "\n",
        "def k_means(X, k, max_iter, random_state, tol=1e-5):\n",
        "  '''\n",
        "  Computes the clusters for input array starting with random initialization and in an iterative approach for specified maximum iterations \n",
        "  or difference between previous cluster and new cluster not changing by specified tolerance.\n",
        "  '''\n",
        "  np.random.seed(random_state)\n",
        "  init_centroids_idx = np.random.choice(np.array([i for i in range(X.shape[0])]), k)\n",
        "  init_centroids = X[init_centroids_idx]\n",
        "  objf = []\n",
        "  for i in range(max_iter):\n",
        "    if i==0:\n",
        "      previous_centroids = init_centroids\n",
        "      cluster = get_clusters(X, init_centroids)\n",
        "      var = objective_function(X, init_centroids, cluster, k)\n",
        "      objf.append(var)\n",
        "      new_centroids = compute_centroids(X, k, cluster)\n",
        "    else:\n",
        "      previous_centroids = new_centroids\n",
        "      cluster = get_clusters(X, new_centroids)\n",
        "      var = objective_function(X, previous_centroids, cluster, k)\n",
        "      objf.append(var)\n",
        "      new_centroids = compute_centroids(X, k, cluster)\n",
        "    if np.sum(np.abs((new_centroids - previous_centroids))) < tol:\n",
        "      break\n",
        "\n",
        "  return cluster, new_centroids, objf"
      ],
      "metadata": {
        "id": "yaG7bVSPpH9G"
      },
      "execution_count": null,
      "outputs": []
    },
    {
      "cell_type": "markdown",
      "source": [
        "### b) A scatter plot of your final clustering, with the data points in each cluster color-coded, or plotted with different symbols. Include the cluster centers in your plot. "
      ],
      "metadata": {
        "id": "JGkF1ZgHsSmY"
      }
    },
    {
      "cell_type": "code",
      "source": [
        "X = df.to_numpy()\n",
        "clusters, centroid, objf = k_means(X, 2, 100, random_state=42)\n",
        "plt.scatter(df['eruptions'], df['waiting'], c=clusters)\n",
        "plt.scatter(centroid[:,0], centroid[:,1], s=80, marker='o', linewidth=3, edgecolor='b')\n",
        "plt.xlabel('Length of Eruption (M)')\n",
        "plt.ylabel('Wait time (M)');"
      ],
      "metadata": {
        "colab": {
          "base_uri": "https://localhost:8080/",
          "height": 279
        },
        "id": "WL4qf9siS5LW",
        "outputId": "aa75e6a6-28f9-4ced-e32a-6c349f537dea"
      },
      "execution_count": null,
      "outputs": [
        {
          "output_type": "display_data",
          "data": {
            "text/plain": [
              "<Figure size 432x288 with 1 Axes>"
            ],
            "image/png": "[encoded data removed]"
          },
          "metadata": {
            "needs_background": "light"
          }
        }
      ]
    },
    {
      "cell_type": "markdown",
      "source": [
        "### c) A plot of the k-means objective function versus iterations of the algorithm"
      ],
      "metadata": {
        "id": "QdbnClPpvv0k"
      }
    },
    {
      "cell_type": "code",
      "source": [
        "plt.plot(objf)\n",
        "plt.xlabel('Iterations')\n",
        "plt.ylabel('Objective Function')\n",
        "plt.title('Ojective Function vs Iterations');"
      ],
      "metadata": {
        "id": "nLtxoLmvvpZP",
        "colab": {
          "base_uri": "https://localhost:8080/",
          "height": 295
        },
        "outputId": "cf47cdae-121b-432b-b828-090562813554"
      },
      "execution_count": null,
      "outputs": [
        {
          "output_type": "display_data",
          "data": {
            "text/plain": [
              "<Figure size 432x288 with 1 Axes>"
            ],
            "image/png": "[encoded data removed]"
          },
          "metadata": {
            "needs_background": "light"
          }
        }
      ]
    },
    {
      "cell_type": "markdown",
      "source": [
        "### d) Did the method manage to find the clusters that you identified in Problem 1? If not, did it help to run the method again with another random initialization?"
      ],
      "metadata": {
        "id": "XzY2p6fiV4A1"
      }
    },
    {
      "cell_type": "markdown",
      "source": [
        "Yes, the method is able to identify clusters properly."
      ],
      "metadata": {
        "id": "mKy5kz-9V9Bz"
      }
    }
  ]
}